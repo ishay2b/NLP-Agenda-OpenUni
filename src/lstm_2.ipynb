{
 "cells": [
  {
   "cell_type": "code",
   "execution_count": 11,
   "metadata": {},
   "outputs": [
    {
     "name": "stdout",
     "output_type": "stream",
     "text": [
      "The autoreload extension is already loaded. To reload it, use:\n",
      "  %reload_ext autoreload\n",
      "Populating the interactive namespace from numpy and matplotlib\n"
     ]
    },
    {
     "data": {
      "text/html": [
       "<style>.container { width:100% !important; }</style>"
      ],
      "text/plain": [
       "<IPython.core.display.HTML object>"
      ]
     },
     "metadata": {},
     "output_type": "display_data"
    }
   ],
   "source": [
    "%load_ext autoreload\n",
    "%autoreload 2\n",
    "%pylab inline\n",
    "import numpy as np # linear algebra\n",
    "import pandas as pd # data processing, CSV file I/O (e.g. pd.read_csv)\n",
    "\n",
    "from sklearn.feature_extraction.text import CountVectorizer\n",
    "from keras.preprocessing.text import Tokenizer\n",
    "from keras.preprocessing.sequence import pad_sequences\n",
    "from keras.models import Sequential\n",
    "from keras.layers import Dense, Embedding, LSTM, SpatialDropout1D\n",
    "from sklearn.model_selection import train_test_split\n",
    "from keras.utils.np_utils import to_categorical\n",
    "import re\n",
    "import glob\n",
    "import common_utils\n",
    "from numpy import array as _A\n",
    "from timeit import default_timer\n",
    "from pathlib import Path\n",
    "\n",
    "config = common_utils.get_config()\n",
    "import sklearn\n",
    "\n",
    "from IPython.core.display import display, HTML\n",
    "display(HTML(\"<style>.container { width:100% !important; }</style>\"))\n"
   ]
  },
  {
   "cell_type": "code",
   "execution_count": 18,
   "metadata": {},
   "outputs": [
    {
     "name": "stdout",
     "output_type": "stream",
     "text": [
      "Done reading data in 41 seconds for paths: ['/home/ishay/projects/NLP1/data//conservative/fox', '/home/ishay/projects/NLP1/data//conservative/national_review', '/home/ishay/projects/NLP1/data//liberal/politico_parsed', '/home/ishay/projects/NLP1/data//liberal/think_progress']\n",
      "Done reading data in 58 seconds for paths: ['/home/ishay/projects/NLP1/data//conservative/westernjournal', '/home/ishay/projects/NLP1/data//liberal/demo', '/home/ishay/projects/NLP1/data//liberal/nytimes']\n",
      "X_train_sentences 28082 X_test_sentences 11887\n",
      "Y_train 28082 Y_test 11887\n",
      "counters {'train': {'liberal': 15567, 'conservative': 12515}, 'test': {'liberal': 7338, 'conservative': 4549}}\n"
     ]
    },
    {
     "data": {
      "text/html": [
       "<div>\n",
       "<style scoped>\n",
       "    .dataframe tbody tr th:only-of-type {\n",
       "        vertical-align: middle;\n",
       "    }\n",
       "\n",
       "    .dataframe tbody tr th {\n",
       "        vertical-align: top;\n",
       "    }\n",
       "\n",
       "    .dataframe thead th {\n",
       "        text-align: right;\n",
       "    }\n",
       "</style>\n",
       "<table border=\"1\" class=\"dataframe\">\n",
       "  <thead>\n",
       "    <tr style=\"text-align: right;\">\n",
       "      <th></th>\n",
       "      <th>text</th>\n",
       "      <th>sentiment</th>\n",
       "    </tr>\n",
       "  </thead>\n",
       "  <tbody>\n",
       "    <tr>\n",
       "      <th>0</th>\n",
       "      <td>Tim Graham | Fox News $TITLE_END$ This materia...</td>\n",
       "      <td>conservative</td>\n",
       "    </tr>\n",
       "    <tr>\n",
       "      <th>1</th>\n",
       "      <td>Trump says immigration into Europe has 'change...</td>\n",
       "      <td>conservative</td>\n",
       "    </tr>\n",
       "    <tr>\n",
       "      <th>2</th>\n",
       "      <td>Sanders projected to win Washington, Alaska, H...</td>\n",
       "      <td>conservative</td>\n",
       "    </tr>\n",
       "    <tr>\n",
       "      <th>3</th>\n",
       "      <td>FoxNews.com - Breaking News | Latest News | Cu...</td>\n",
       "      <td>conservative</td>\n",
       "    </tr>\n",
       "    <tr>\n",
       "      <th>4</th>\n",
       "      <td>Ex-New York state Sen. Dean Skelos, son convic...</td>\n",
       "      <td>conservative</td>\n",
       "    </tr>\n",
       "  </tbody>\n",
       "</table>\n",
       "</div>"
      ],
      "text/plain": [
       "                                                text     sentiment\n",
       "0  Tim Graham | Fox News $TITLE_END$ This materia...  conservative\n",
       "1  Trump says immigration into Europe has 'change...  conservative\n",
       "2  Sanders projected to win Washington, Alaska, H...  conservative\n",
       "3  FoxNews.com - Breaking News | Latest News | Cu...  conservative\n",
       "4  Ex-New York state Sen. Dean Skelos, son convic...  conservative"
      ]
     },
     "execution_count": 18,
     "metadata": {},
     "output_type": "execute_result"
    }
   ],
   "source": [
    "# Load train and test data\n",
    "\n",
    "X_train_file_name = list()\n",
    "X_test_file_name = list()\n",
    "Y_train = list()\n",
    "Y_test = list()\n",
    "labels = config['labels']\n",
    "modes = ('train','test')\n",
    "\n",
    "\n",
    "dataFrameTrain = pd.DataFrame(columns=('text', 'sentiment'))\n",
    "dataFrameTest  = pd.DataFrame(columns=('text', 'sentiment'))\n",
    "df_both = {'train': dataFrameTrain, 'test': dataFrameTest}\n",
    "\n",
    "counters ={mode:{label:0 for label in labels} for mode in modes }\n",
    "\n",
    "start_time = default_timer()\n",
    "\n",
    "for mode, paths, x, y in zip(\n",
    "    modes, \n",
    "    (config['train_folders'], config['test_folders']), \n",
    "    (X_train_file_name, X_test_file_name),\n",
    "    (Y_train, Y_test)):\n",
    "    \n",
    "    for path_name in paths:\n",
    "        the_label = path_name.split('/')[-2]\n",
    "        files_list = list(glob.iglob(path_name+\"/*.txt\"))\n",
    "        # print (\"Mode %s, Found %d for %s\"%(mode, len(files_list), path_name))\n",
    "        x.extend(files_list)\n",
    "        y.extend([the_label==labels[0]]*len(files_list))\n",
    "        for file_path in files_list:\n",
    "            contents = Path(file_path).read_text(encoding=\"utf-8\")\n",
    "            df_both[mode] = df_both[mode].append({ 'text':contents, 'sentiment':the_label}, ignore_index=True)\n",
    "        \n",
    "        counters[mode][the_label] += len(files_list)\n",
    "        \n",
    "\n",
    "    runtime = default_timer() - start_time\n",
    "    print(\"Done reading data in %d seconds for paths:\"%runtime, paths)\n",
    "    \n",
    "Y_test = _A(Y_test)\n",
    "Y_train = _A(Y_train)\n",
    "\n",
    "print(\"X_train_sentences\", len(X_train_file_name), \"X_test_sentences\", len(X_test_file_name))    \n",
    "print(\"Y_train\", len(Y_train), \"Y_test\", len(Y_test))    \n",
    "print(\"counters\", counters)  \n",
    "df_both['train'].head()"
   ]
  },
  {
   "cell_type": "code",
   "execution_count": 19,
   "metadata": {},
   "outputs": [
    {
     "data": {
      "text/html": [
       "<div>\n",
       "<style scoped>\n",
       "    .dataframe tbody tr th:only-of-type {\n",
       "        vertical-align: middle;\n",
       "    }\n",
       "\n",
       "    .dataframe tbody tr th {\n",
       "        vertical-align: top;\n",
       "    }\n",
       "\n",
       "    .dataframe thead th {\n",
       "        text-align: right;\n",
       "    }\n",
       "</style>\n",
       "<table border=\"1\" class=\"dataframe\">\n",
       "  <thead>\n",
       "    <tr style=\"text-align: right;\">\n",
       "      <th></th>\n",
       "      <th>text</th>\n",
       "      <th>sentiment</th>\n",
       "    </tr>\n",
       "  </thead>\n",
       "  <tbody>\n",
       "    <tr>\n",
       "      <th>0</th>\n",
       "      <td>Trump's Approval Rating Hits Landmark High Des...</td>\n",
       "      <td>conservative</td>\n",
       "    </tr>\n",
       "    <tr>\n",
       "      <th>1</th>\n",
       "      <td>Ron Paul Makes Announcement About Trump... Thi...</td>\n",
       "      <td>conservative</td>\n",
       "    </tr>\n",
       "    <tr>\n",
       "      <th>2</th>\n",
       "      <td>BREAKING: Trump, Sanders Combine Forces, Make ...</td>\n",
       "      <td>conservative</td>\n",
       "    </tr>\n",
       "    <tr>\n",
       "      <th>3</th>\n",
       "      <td>Numbers Don't Lie, People Love Trump's Economy...</td>\n",
       "      <td>conservative</td>\n",
       "    </tr>\n",
       "    <tr>\n",
       "      <th>4</th>\n",
       "      <td>160 Things Trump Has Done to Make America Grea...</td>\n",
       "      <td>conservative</td>\n",
       "    </tr>\n",
       "  </tbody>\n",
       "</table>\n",
       "</div>"
      ],
      "text/plain": [
       "                                                text     sentiment\n",
       "0  Trump's Approval Rating Hits Landmark High Des...  conservative\n",
       "1  Ron Paul Makes Announcement About Trump... Thi...  conservative\n",
       "2  BREAKING: Trump, Sanders Combine Forces, Make ...  conservative\n",
       "3  Numbers Don't Lie, People Love Trump's Economy...  conservative\n",
       "4  160 Things Trump Has Done to Make America Grea...  conservative"
      ]
     },
     "execution_count": 19,
     "metadata": {},
     "output_type": "execute_result"
    }
   ],
   "source": [
    "df_both['test'].head()"
   ]
  },
  {
   "cell_type": "code",
   "execution_count": 20,
   "metadata": {},
   "outputs": [
    {
     "name": "stdout",
     "output_type": "stream",
     "text": [
      "Num of conservative records: 25030\n",
      "Num of liberal records: 31134\n"
     ]
    }
   ],
   "source": [
    "data = df_both['train']\n",
    "data['text'] = data['text'].apply(lambda x: x.lower())\n",
    "data['text'] = data['text'].apply((lambda x: re.sub('[^a-zA-z0-9\\s]','',x)))\n",
    "\n",
    "print(\"Num of conservative records:\", data[ data['sentiment'] == 'conservative'].size)\n",
    "print(\"Num of liberal records:\",      data[ data['sentiment'] == 'liberal'].size)\n",
    "\n",
    "\n",
    "    \n"
   ]
  },
  {
   "cell_type": "code",
   "execution_count": 21,
   "metadata": {},
   "outputs": [
    {
     "data": {
      "text/html": [
       "<div>\n",
       "<style scoped>\n",
       "    .dataframe tbody tr th:only-of-type {\n",
       "        vertical-align: middle;\n",
       "    }\n",
       "\n",
       "    .dataframe tbody tr th {\n",
       "        vertical-align: top;\n",
       "    }\n",
       "\n",
       "    .dataframe thead th {\n",
       "        text-align: right;\n",
       "    }\n",
       "</style>\n",
       "<table border=\"1\" class=\"dataframe\">\n",
       "  <thead>\n",
       "    <tr style=\"text-align: right;\">\n",
       "      <th></th>\n",
       "      <th>text</th>\n",
       "      <th>sentiment</th>\n",
       "    </tr>\n",
       "  </thead>\n",
       "  <tbody>\n",
       "    <tr>\n",
       "      <th>0</th>\n",
       "      <td>tim graham  fox news title_end this material m...</td>\n",
       "      <td>conservative</td>\n",
       "    </tr>\n",
       "    <tr>\n",
       "      <th>1</th>\n",
       "      <td>trump says immigration into europe has changed...</td>\n",
       "      <td>conservative</td>\n",
       "    </tr>\n",
       "    <tr>\n",
       "      <th>2</th>\n",
       "      <td>sanders projected to win washington alaska haw...</td>\n",
       "      <td>conservative</td>\n",
       "    </tr>\n",
       "    <tr>\n",
       "      <th>3</th>\n",
       "      <td>foxnewscom  breaking news  latest news  curren...</td>\n",
       "      <td>conservative</td>\n",
       "    </tr>\n",
       "    <tr>\n",
       "      <th>4</th>\n",
       "      <td>exnew york state sen dean skelos son convicted...</td>\n",
       "      <td>conservative</td>\n",
       "    </tr>\n",
       "  </tbody>\n",
       "</table>\n",
       "</div>"
      ],
      "text/plain": [
       "                                                text     sentiment\n",
       "0  tim graham  fox news title_end this material m...  conservative\n",
       "1  trump says immigration into europe has changed...  conservative\n",
       "2  sanders projected to win washington alaska haw...  conservative\n",
       "3  foxnewscom  breaking news  latest news  curren...  conservative\n",
       "4  exnew york state sen dean skelos son convicted...  conservative"
      ]
     },
     "execution_count": 21,
     "metadata": {},
     "output_type": "execute_result"
    }
   ],
   "source": [
    "data.head()"
   ]
  },
  {
   "cell_type": "code",
   "execution_count": 22,
   "metadata": {},
   "outputs": [],
   "source": [
    "#remove site identifiers\n",
    "for idx,row in data.iterrows():\n",
    "    row[0] = row[0].replace('fox',' ')\n",
    "    row[0] = row[0].replace('politico',' ')\n",
    "    row[0] = row[0].replace('national review',' ')\n",
    "    row[0] = row[0].replace('westernjournal',' ')\n",
    "    row[0] = row[0].replace('western journal',' ')\n",
    "    row[0] = row[0].replace('democracy now',' ')\n",
    "    row[0] = row[0].replace('the new york times',' ')\n",
    "    row[0] = row[0].replace('thinkprogress',' ')\n",
    "    row[0] = row[0].replace('western journal',' ')"
   ]
  },
  {
   "cell_type": "code",
   "execution_count": 23,
   "metadata": {},
   "outputs": [
    {
     "name": "stdout",
     "output_type": "stream",
     "text": [
      "Done tokenizer in 24 seconds\n"
     ]
    }
   ],
   "source": [
    "from timeit import default_timer\n",
    "\n",
    "start_time = default_timer()\n",
    "max_fatures = 2000\n",
    "tokenizer = Tokenizer(num_words=max_fatures, split=' ')\n",
    "tokenizer.fit_on_texts(data['text'].values)\n",
    "X = tokenizer.texts_to_sequences(data['text'].values)\n",
    "X = pad_sequences(X)\n",
    "print(\"Done tokenizer in %d seconds\"%(default_timer()-start_time))\n"
   ]
  },
  {
   "cell_type": "code",
   "execution_count": 24,
   "metadata": {},
   "outputs": [
    {
     "data": {
      "text/plain": [
       "(28082, 22332)"
      ]
     },
     "execution_count": 24,
     "metadata": {},
     "output_type": "execute_result"
    }
   ],
   "source": [
    "X.shape"
   ]
  },
  {
   "cell_type": "code",
   "execution_count": 25,
   "metadata": {
    "scrolled": true
   },
   "outputs": [
    {
     "name": "stdout",
     "output_type": "stream",
     "text": [
      "_________________________________________________________________\n",
      "Layer (type)                 Output Shape              Param #   \n",
      "=================================================================\n",
      "embedding_1 (Embedding)      (None, 22332, 128)        256000    \n",
      "_________________________________________________________________\n",
      "spatial_dropout1d_1 (Spatial (None, 22332, 128)        0         \n",
      "_________________________________________________________________\n",
      "lstm_1 (LSTM)                (None, 96)                86400     \n",
      "_________________________________________________________________\n",
      "dense_1 (Dense)              (None, 2)                 194       \n",
      "=================================================================\n",
      "Total params: 342,594\n",
      "Trainable params: 342,594\n",
      "Non-trainable params: 0\n",
      "_________________________________________________________________\n",
      "None\n"
     ]
    }
   ],
   "source": [
    "embed_dim = 128\n",
    "lstm_out = 96\n",
    "\n",
    "model = Sequential()\n",
    "model.add(Embedding(max_fatures, embed_dim,input_length = X.shape[1]))\n",
    "model.add(SpatialDropout1D(0.4))\n",
    "model.add(LSTM(lstm_out, dropout=0.2, recurrent_dropout=0.2))\n",
    "model.add(Dense(2,activation='softmax'))\n",
    "model.compile(loss = 'categorical_crossentropy', optimizer='adam',metrics = ['accuracy'])\n",
    "print(model.summary())"
   ]
  },
  {
   "cell_type": "code",
   "execution_count": 26,
   "metadata": {},
   "outputs": [],
   "source": [
    "Y = pd.get_dummies(data['sentiment']).values"
   ]
  },
  {
   "cell_type": "code",
   "execution_count": null,
   "metadata": {},
   "outputs": [
    {
     "name": "stdout",
     "output_type": "stream",
     "text": [
      "Epoch 1/3\n",
      "  576/28082 [..............................] - ETA: 4:40:19 - loss: 0.6799 - acc: 0.6372"
     ]
    }
   ],
   "source": [
    "batch_size = 32\n",
    "start_time = default_timer()\n",
    "model.fit(X, Y, epochs = 3, batch_size=batch_size, verbose = 1)\n",
    "print(\"Done fit in %d seconds\"%(default_timer()-start_time))\n"
   ]
  },
  {
   "cell_type": "code",
   "execution_count": 13,
   "metadata": {},
   "outputs": [
    {
     "name": "stdout",
     "output_type": "stream",
     "text": [
      "score: 0.16\n",
      "acc: 0.94\n"
     ]
    }
   ],
   "source": [
    "test_data = df_both['train']\n",
    "X_test = tokenizer.texts_to_sequences(test_data['text'].values)\n",
    "X_test = pad_sequences(X_test)\n",
    "\n",
    "Y_test = pd.get_dummies(test_data['sentiment']).values\n",
    "score, acc = model.evaluate(X_test, Y_test, verbose = 2, batch_size = batch_size)\n",
    "print(\"score: %.2f\" % (score))\n",
    "print(\"acc: %.2f\" % (acc))"
   ]
  },
  {
   "cell_type": "code",
   "execution_count": 14,
   "metadata": {},
   "outputs": [
    {
     "name": "stdout",
     "output_type": "stream",
     "text": [
      "pos_acc 91.00467289719626 %\n",
      "neg_acc 96.58385093167702 %\n"
     ]
    }
   ],
   "source": [
    "pos_cnt, neg_cnt, pos_correct, neg_correct = 0, 0, 0, 0\n",
    "for x in range(len(X_validate)):\n",
    "    \n",
    "    result = model.predict(X_validate[x].reshape(1,X_test.shape[1]),batch_size=1,verbose = 2)[0]\n",
    "   \n",
    "    if np.argmax(result) == np.argmax(Y_validate[x]):\n",
    "        if np.argmax(Y_validate[x]) == 0:\n",
    "            neg_correct += 1\n",
    "        else:\n",
    "            pos_correct += 1\n",
    "       \n",
    "    if np.argmax(Y_validate[x]) == 0:\n",
    "        neg_cnt += 1\n",
    "    else:\n",
    "        pos_cnt += 1\n",
    "\n",
    "\n",
    "\n",
    "print(\"pos_acc\", pos_correct/pos_cnt*100, \"%\")\n",
    "print(\"neg_acc\", neg_correct/neg_cnt*100, \"%\")"
   ]
  }
 ],
 "metadata": {
  "kernelspec": {
   "display_name": "Python 3",
   "language": "python",
   "name": "python3"
  },
  "language_info": {
   "codemirror_mode": {
    "name": "ipython",
    "version": 3
   },
   "file_extension": ".py",
   "mimetype": "text/x-python",
   "name": "python",
   "nbconvert_exporter": "python",
   "pygments_lexer": "ipython3",
   "version": "3.5.2"
  }
 },
 "nbformat": 4,
 "nbformat_minor": 2
}
