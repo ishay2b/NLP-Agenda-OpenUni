{
 "cells": [
  {
   "cell_type": "code",
   "execution_count": 1,
   "metadata": {},
   "outputs": [
    {
     "name": "stderr",
     "output_type": "stream",
     "text": [
      "/home/ishay/projects/Gun/VENV/lib/python3.5/site-packages/h5py/__init__.py:36: FutureWarning: Conversion of the second argument of issubdtype from `float` to `np.floating` is deprecated. In future, it will be treated as `np.float64 == np.dtype(float).type`.\n",
      "  from ._conv import register_converters as _register_converters\n",
      "Using TensorFlow backend.\n"
     ]
    }
   ],
   "source": [
    "import numpy as np # linear algebra\n",
    "import pandas as pd # data processing, CSV file I/O (e.g. pd.read_csv)\n",
    "\n",
    "from sklearn.feature_extraction.text import CountVectorizer\n",
    "from keras.preprocessing.text import Tokenizer\n",
    "from keras.preprocessing.sequence import pad_sequences\n",
    "from keras.models import Sequential\n",
    "from keras.layers import Dense, Embedding, LSTM, SpatialDropout1D\n",
    "from sklearn.model_selection import train_test_split\n",
    "from keras.utils.np_utils import to_categorical\n",
    "import re"
   ]
  },
  {
   "cell_type": "code",
   "execution_count": 2,
   "metadata": {},
   "outputs": [],
   "source": [
    "def addDir(dir1, dataFrame1, label):\n",
    "    from pathlib import Path\n",
    "    pathlist = Path(dir1).glob('**/*.txt')\n",
    "    c = 0\n",
    "    for path in pathlist:\n",
    "        contents = Path(path).read_text(encoding=\"utf-8\")\n",
    "        dataFrame1 = dataFrame1.append({ 'text':contents, 'sentiment':label}, ignore_index=True)\n",
    "        c = c + 1\n",
    "    print(c)\n",
    "    return dataFrame1"
   ]
  },
  {
   "cell_type": "code",
   "execution_count": 3,
   "metadata": {},
   "outputs": [
    {
     "name": "stdout",
     "output_type": "stream",
     "text": [
      "/home/ishay/projects/NLP1/data//conservative/national_review\n",
      "4834\n",
      "/home/ishay/projects/NLP1/data//conservative/westernjournal\n",
      "4549\n",
      "/home/ishay/projects/NLP1/data//conservative/fox\n",
      "7681\n",
      "/home/ishay/projects/NLP1/data//liberal/demo\n",
      "4246\n",
      "/home/ishay/projects/NLP1/data//liberal/nytimes\n",
      "3092\n",
      "/home/ishay/projects/NLP1/data//liberal/politico_parsed\n",
      "7404\n",
      "/home/ishay/projects/NLP1/data//liberal/think_progress\n",
      "8163\n"
     ]
    }
   ],
   "source": [
    "#def function (thePath, the)\n",
    "#'D:/classA/dest_parsed_fox/'\n",
    "import glob\n",
    "import common_utils\n",
    "config = common_utils.get_config()\n",
    "\n",
    "dataFrame = pd.DataFrame(columns=('text', 'sentiment'))\n",
    "for dirname in glob.glob(config['data_dir']+'/conservative/*'):\n",
    "    print(dirname)\n",
    "    dataFrame = addDir(dirname, dataFrame, 'conservative')\n",
    "\n",
    "for dirname in glob.glob(config['data_dir']+'/liberal/*'):\n",
    "    print(dirname)    \n",
    "    dataFrame = addDir(dirname, dataFrame, 'liberal')\n",
    "\n"
   ]
  },
  {
   "cell_type": "code",
   "execution_count": 4,
   "metadata": {},
   "outputs": [
    {
     "data": {
      "text/html": [
       "<div>\n",
       "<style scoped>\n",
       "    .dataframe tbody tr th:only-of-type {\n",
       "        vertical-align: middle;\n",
       "    }\n",
       "\n",
       "    .dataframe tbody tr th {\n",
       "        vertical-align: top;\n",
       "    }\n",
       "\n",
       "    .dataframe thead th {\n",
       "        text-align: right;\n",
       "    }\n",
       "</style>\n",
       "<table border=\"1\" class=\"dataframe\">\n",
       "  <thead>\n",
       "    <tr style=\"text-align: right;\">\n",
       "      <th></th>\n",
       "      <th>text</th>\n",
       "      <th>sentiment</th>\n",
       "    </tr>\n",
       "  </thead>\n",
       "  <tbody>\n",
       "    <tr>\n",
       "      <th>0</th>\n",
       "      <td>Trump's Iran Confrontation &amp; Miscalculation Ri...</td>\n",
       "      <td>conservative</td>\n",
       "    </tr>\n",
       "    <tr>\n",
       "      <th>1</th>\n",
       "      <td>Donald Trump’s DACA Decision: Here’s What Repu...</td>\n",
       "      <td>conservative</td>\n",
       "    </tr>\n",
       "    <tr>\n",
       "      <th>2</th>\n",
       "      <td>State of the Union Forced Mainstream Media to ...</td>\n",
       "      <td>conservative</td>\n",
       "    </tr>\n",
       "    <tr>\n",
       "      <th>3</th>\n",
       "      <td>Trump &amp; Foreign Policy -- Ideology Is Not His ...</td>\n",
       "      <td>conservative</td>\n",
       "    </tr>\n",
       "    <tr>\n",
       "      <th>4</th>\n",
       "      <td>Trump Warns North Korea of 'Fire and Fury Like...</td>\n",
       "      <td>conservative</td>\n",
       "    </tr>\n",
       "  </tbody>\n",
       "</table>\n",
       "</div>"
      ],
      "text/plain": [
       "                                                text     sentiment\n",
       "0  Trump's Iran Confrontation & Miscalculation Ri...  conservative\n",
       "1  Donald Trump’s DACA Decision: Here’s What Repu...  conservative\n",
       "2  State of the Union Forced Mainstream Media to ...  conservative\n",
       "3  Trump & Foreign Policy -- Ideology Is Not His ...  conservative\n",
       "4  Trump Warns North Korea of 'Fire and Fury Like...  conservative"
      ]
     },
     "execution_count": 4,
     "metadata": {},
     "output_type": "execute_result"
    }
   ],
   "source": [
    "dataFrame.head()"
   ]
  },
  {
   "cell_type": "code",
   "execution_count": 5,
   "metadata": {},
   "outputs": [
    {
     "name": "stdout",
     "output_type": "stream",
     "text": [
      "Num of conservative records: 34128\n",
      "Num of liberal records: 45810\n"
     ]
    }
   ],
   "source": [
    "data = dataFrame\n",
    "data['text'] = data['text'].apply(lambda x: x.lower())\n",
    "data['text'] = data['text'].apply((lambda x: re.sub('[^a-zA-z0-9\\s]','',x)))\n",
    "\n",
    "print(\"Num of conservative records:\", data[ data['sentiment'] == 'conservative'].size)\n",
    "print(\"Num of liberal records:\",      data[ data['sentiment'] == 'liberal'].size)\n",
    "\n",
    "\n",
    "    \n"
   ]
  },
  {
   "cell_type": "code",
   "execution_count": 6,
   "metadata": {},
   "outputs": [
    {
     "data": {
      "text/html": [
       "<div>\n",
       "<style scoped>\n",
       "    .dataframe tbody tr th:only-of-type {\n",
       "        vertical-align: middle;\n",
       "    }\n",
       "\n",
       "    .dataframe tbody tr th {\n",
       "        vertical-align: top;\n",
       "    }\n",
       "\n",
       "    .dataframe thead th {\n",
       "        text-align: right;\n",
       "    }\n",
       "</style>\n",
       "<table border=\"1\" class=\"dataframe\">\n",
       "  <thead>\n",
       "    <tr style=\"text-align: right;\">\n",
       "      <th></th>\n",
       "      <th>text</th>\n",
       "      <th>sentiment</th>\n",
       "    </tr>\n",
       "  </thead>\n",
       "  <tbody>\n",
       "    <tr>\n",
       "      <th>0</th>\n",
       "      <td>trumps iran confrontation  miscalculation risk...</td>\n",
       "      <td>conservative</td>\n",
       "    </tr>\n",
       "    <tr>\n",
       "      <th>1</th>\n",
       "      <td>donald trumps daca decision heres what republi...</td>\n",
       "      <td>conservative</td>\n",
       "    </tr>\n",
       "    <tr>\n",
       "      <th>2</th>\n",
       "      <td>state of the union forced mainstream media to ...</td>\n",
       "      <td>conservative</td>\n",
       "    </tr>\n",
       "    <tr>\n",
       "      <th>3</th>\n",
       "      <td>trump  foreign policy  ideology is not his gui...</td>\n",
       "      <td>conservative</td>\n",
       "    </tr>\n",
       "    <tr>\n",
       "      <th>4</th>\n",
       "      <td>trump warns north korea of fire and fury like ...</td>\n",
       "      <td>conservative</td>\n",
       "    </tr>\n",
       "  </tbody>\n",
       "</table>\n",
       "</div>"
      ],
      "text/plain": [
       "                                                text     sentiment\n",
       "0  trumps iran confrontation  miscalculation risk...  conservative\n",
       "1  donald trumps daca decision heres what republi...  conservative\n",
       "2  state of the union forced mainstream media to ...  conservative\n",
       "3  trump  foreign policy  ideology is not his gui...  conservative\n",
       "4  trump warns north korea of fire and fury like ...  conservative"
      ]
     },
     "execution_count": 6,
     "metadata": {},
     "output_type": "execute_result"
    }
   ],
   "source": [
    "data.head()"
   ]
  },
  {
   "cell_type": "code",
   "execution_count": 7,
   "metadata": {},
   "outputs": [],
   "source": [
    "#remove site identifiers\n",
    "for idx,row in data.iterrows():\n",
    "    row[0] = row[0].replace('fox',' ')\n",
    "    row[0] = row[0].replace('politico',' ')\n",
    "    row[0] = row[0].replace('national review',' ')\n",
    "    row[0] = row[0].replace('westernjournal',' ')\n",
    "    row[0] = row[0].replace('western journal',' ')\n",
    "    row[0] = row[0].replace('democracy now',' ')\n",
    "    row[0] = row[0].replace('the new york times',' ')\n",
    "    row[0] = row[0].replace('thinkprogress',' ')\n",
    "    row[0] = row[0].replace('western journal',' ')"
   ]
  },
  {
   "cell_type": "code",
   "execution_count": 8,
   "metadata": {},
   "outputs": [
    {
     "name": "stdout",
     "output_type": "stream",
     "text": [
      "Done tokenizer in 34 seconds\n"
     ]
    }
   ],
   "source": [
    "from timeit import default_timer\n",
    "\n",
    "start_time = default_timer()\n",
    "max_fatures = 2000\n",
    "tokenizer = Tokenizer(num_words=max_fatures, split=' ')\n",
    "tokenizer.fit_on_texts(data['text'].values)\n",
    "X = tokenizer.texts_to_sequences(data['text'].values)\n",
    "X = pad_sequences(X)\n",
    "print(\"Done tokenizer in %d seconds\"%(default_timer()-start_time))\n"
   ]
  },
  {
   "cell_type": "code",
   "execution_count": 9,
   "metadata": {},
   "outputs": [
    {
     "data": {
      "text/plain": [
       "(39969, 22402)"
      ]
     },
     "execution_count": 9,
     "metadata": {},
     "output_type": "execute_result"
    }
   ],
   "source": [
    "X.shape"
   ]
  },
  {
   "cell_type": "code",
   "execution_count": 10,
   "metadata": {
    "scrolled": true
   },
   "outputs": [
    {
     "name": "stdout",
     "output_type": "stream",
     "text": [
      "_________________________________________________________________\n",
      "Layer (type)                 Output Shape              Param #   \n",
      "=================================================================\n",
      "embedding_1 (Embedding)      (None, 22402, 128)        256000    \n",
      "_________________________________________________________________\n",
      "spatial_dropout1d_1 (Spatial (None, 22402, 128)        0         \n",
      "_________________________________________________________________\n",
      "lstm_1 (LSTM)                (None, 96)                86400     \n",
      "_________________________________________________________________\n",
      "dense_1 (Dense)              (None, 2)                 194       \n",
      "=================================================================\n",
      "Total params: 342,594\n",
      "Trainable params: 342,594\n",
      "Non-trainable params: 0\n",
      "_________________________________________________________________\n",
      "None\n"
     ]
    }
   ],
   "source": [
    "embed_dim = 128\n",
    "lstm_out = 96\n",
    "\n",
    "model = Sequential()\n",
    "model.add(Embedding(max_fatures, embed_dim,input_length = X.shape[1]))\n",
    "model.add(SpatialDropout1D(0.4))\n",
    "model.add(LSTM(lstm_out, dropout=0.2, recurrent_dropout=0.2))\n",
    "model.add(Dense(2,activation='softmax'))\n",
    "model.compile(loss = 'categorical_crossentropy', optimizer='adam',metrics = ['accuracy'])\n",
    "print(model.summary())"
   ]
  },
  {
   "cell_type": "code",
   "execution_count": 11,
   "metadata": {},
   "outputs": [
    {
     "name": "stdout",
     "output_type": "stream",
     "text": [
      "(26779, 22402) (26779, 2)\n",
      "(13190, 22402) (13190, 2)\n"
     ]
    }
   ],
   "source": [
    "Y = pd.get_dummies(data['sentiment']).values\n",
    "X_train, X_test, Y_train, Y_test = train_test_split(X,Y, test_size = 0.33, random_state = 42)\n",
    "print(X_train.shape,Y_train.shape)\n",
    "print(X_test.shape,Y_test.shape)"
   ]
  },
  {
   "cell_type": "code",
   "execution_count": 12,
   "metadata": {},
   "outputs": [
    {
     "name": "stdout",
     "output_type": "stream",
     "text": [
      "Epoch 1/3\n",
      "26779/26779 [==============================] - 17210s 643ms/step - loss: 0.3421 - acc: 0.8410\n",
      "Epoch 2/3\n",
      "26779/26779 [==============================] - 17340s 648ms/step - loss: 0.2515 - acc: 0.8894\n",
      "Epoch 3/3\n",
      "26779/26779 [==============================] - 17346s 648ms/step - loss: 0.1969 - acc: 0.9200\n"
     ]
    },
    {
     "data": {
      "text/plain": [
       "<keras.callbacks.History at 0x7f2d771b32b0>"
      ]
     },
     "execution_count": 12,
     "metadata": {},
     "output_type": "execute_result"
    }
   ],
   "source": [
    "batch_size = 32\n",
    "model.fit(X_train, Y_train, epochs = 3, batch_size=batch_size, verbose = 1)"
   ]
  },
  {
   "cell_type": "code",
   "execution_count": 13,
   "metadata": {},
   "outputs": [
    {
     "name": "stdout",
     "output_type": "stream",
     "text": [
      "score: 0.16\n",
      "acc: 0.94\n"
     ]
    }
   ],
   "source": [
    "validation_size = 1500\n",
    "\n",
    "X_validate = X_test[-validation_size:]\n",
    "Y_validate = Y_test[-validation_size:]\n",
    "X_test = X_test[:-validation_size]\n",
    "Y_test = Y_test[:-validation_size]\n",
    "score,acc = model.evaluate(X_test, Y_test, verbose = 2, batch_size = batch_size)\n",
    "print(\"score: %.2f\" % (score))\n",
    "print(\"acc: %.2f\" % (acc))"
   ]
  },
  {
   "cell_type": "code",
   "execution_count": 14,
   "metadata": {},
   "outputs": [
    {
     "name": "stdout",
     "output_type": "stream",
     "text": [
      "pos_acc 91.00467289719626 %\n",
      "neg_acc 96.58385093167702 %\n"
     ]
    }
   ],
   "source": [
    "pos_cnt, neg_cnt, pos_correct, neg_correct = 0, 0, 0, 0\n",
    "for x in range(len(X_validate)):\n",
    "    \n",
    "    result = model.predict(X_validate[x].reshape(1,X_test.shape[1]),batch_size=1,verbose = 2)[0]\n",
    "   \n",
    "    if np.argmax(result) == np.argmax(Y_validate[x]):\n",
    "        if np.argmax(Y_validate[x]) == 0:\n",
    "            neg_correct += 1\n",
    "        else:\n",
    "            pos_correct += 1\n",
    "       \n",
    "    if np.argmax(Y_validate[x]) == 0:\n",
    "        neg_cnt += 1\n",
    "    else:\n",
    "        pos_cnt += 1\n",
    "\n",
    "\n",
    "\n",
    "print(\"pos_acc\", pos_correct/pos_cnt*100, \"%\")\n",
    "print(\"neg_acc\", neg_correct/neg_cnt*100, \"%\")"
   ]
  }
 ],
 "metadata": {
  "kernelspec": {
   "display_name": "Python 3",
   "language": "python",
   "name": "python3"
  },
  "language_info": {
   "codemirror_mode": {
    "name": "ipython",
    "version": 3
   },
   "file_extension": ".py",
   "mimetype": "text/x-python",
   "name": "python",
   "nbconvert_exporter": "python",
   "pygments_lexer": "ipython3",
   "version": "3.5.2"
  }
 },
 "nbformat": 4,
 "nbformat_minor": 2
}
